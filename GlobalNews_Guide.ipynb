{
  "cells": [
    {
      "cell_type": "markdown",
      "metadata": {},
      "source": [
        "# 🌍 GlobalNews Translation App\n",
        "\n",
        "A multilingual translation web application supporting **English**, **Chinese**, and **Japanese** with language detection and sentiment analysis.\n",
        "\n",
        "---\n",
        "\n",
        "## 🚀 Quick Start\n"
      ]
    },
    {
      "cell_type": "markdown",
      "metadata": {},
      "source": [
        "### Step 1: Install Dependencies\n"
      ]
    },
    {
      "cell_type": "code",
      "execution_count": null,
      "metadata": {},
      "outputs": [],
      "source": [
        "!pip3 install --user Flask googletrans==4.0.0rc1 Werkzeug textblob langdetect\n"
      ]
    },
    {
      "cell_type": "markdown",
      "metadata": {},
      "source": [
        "### Step 2: Download NLP Data\n"
      ]
    },
    {
      "cell_type": "code",
      "execution_count": null,
      "metadata": {},
      "outputs": [],
      "source": [
        "import nltk\n",
        "import os\n",
        "download_dir = os.path.expanduser('~/nltk_data')\n",
        "nltk.download('punkt', download_dir=download_dir)\n",
        "nltk.download('brown', download_dir=download_dir)\n"
      ]
    },
    {
      "cell_type": "markdown",
      "metadata": {},
      "source": [
        "### Step 3: Run the App\n",
        "\n",
        "**In terminal:**\n",
        "```bash\n",
        "cd backend\n",
        "python3 app.py\n",
        "```\n",
        "\n",
        "**Open:** http://localhost:5000\n",
        "\n",
        "---\n",
        "\n",
        "## ✨ Features\n",
        "\n",
        "### 1. 🔄 Translation\n",
        "- 🇺🇸 English ↔ 🇨🇳 Chinese ↔ 🇯🇵 Japanese\n",
        "- Powered by Google Translate\n",
        "\n",
        "### 2. 🌍 Language Detection\n",
        "- Auto-detect language with confidence scores\n",
        "- Supports 13+ languages\n",
        "\n",
        "### 3. 💭 Sentiment Analysis\n",
        "- Positive 😊, Negative 😔, or Neutral 😐\n",
        "- Polarity and subjectivity scores\n",
        "\n",
        "---\n",
        "\n",
        "## 🔧 Troubleshooting\n",
        "\n",
        "**Port in use:** Change port in `backend/app.py` to 5001\n",
        "\n",
        "**Import errors:** `pip3 install --user -r backend/requirements.txt`\n",
        "\n",
        "---\n",
        "\n",
        "🔗 **GitHub:** https://github.com/seven-ai-h/GlobalNewsProject\n"
      ]
    },
    {
      "cell_type": "markdown",
      "metadata": {},
      "source": [
        "# 🌍 GlobalNews Translation App\n",
        "\n",
        "A multilingual translation web application supporting **English**, **Chinese**, and **Japanese** with language detection and sentiment analysis.\n",
        "\n",
        "---\n",
        "\n",
        "## 🚀 Quick Start\n"
      ]
    },
    {
      "cell_type": "markdown",
      "metadata": {},
      "source": [
        "### Step 1: Install Dependencies\n"
      ]
    },
    {
      "cell_type": "code",
      "execution_count": null,
      "metadata": {},
      "outputs": [],
      "source": [
        "# Install required packages\n",
        "!pip3 install --user Flask googletrans==4.0.0rc1 Werkzeug textblob langdetect\n"
      ]
    },
    {
      "cell_type": "markdown",
      "metadata": {},
      "source": [
        "### Step 2: Download NLP Data\n"
      ]
    },
    {
      "cell_type": "code",
      "execution_count": null,
      "metadata": {},
      "outputs": [],
      "source": [
        "# Download NLTK data for sentiment analysis\n",
        "import nltk\n",
        "import os\n",
        "download_dir = os.path.expanduser('~/nltk_data')\n",
        "nltk.download('punkt', download_dir=download_dir)\n",
        "nltk.download('brown', download_dir=download_dir)\n"
      ]
    },
    {
      "cell_type": "markdown",
      "metadata": {},
      "source": [
        "### Step 3: Run the App\n",
        "\n",
        "**In terminal:**\n",
        "```bash\n",
        "cd backend\n",
        "python3 app.py\n",
        "```\n",
        "\n",
        "**Then open in browser:**\n",
        "```\n",
        "http://localhost:5000\n",
        "```\n",
        "\n",
        "---\n",
        "\n",
        "## ✨ Features\n"
      ]
    },
    {
      "cell_type": "markdown",
      "metadata": {},
      "source": [
        "### 1. 🔄 Translation\n",
        "\n",
        "Translate text between:\n",
        "- 🇺🇸 English\n",
        "- 🇨🇳 Chinese (Simplified)\n",
        "- 🇯🇵 Japanese\n",
        "\n",
        "**Features:**\n",
        "- Bidirectional translation (any language pair)\n",
        "- Swap button to quickly reverse languages\n",
        "- Powered by Google Translate API\n"
      ]
    },
    {
      "cell_type": "code",
      "execution_count": null,
      "metadata": {},
      "outputs": [],
      "source": [
        "# Example: Translation\n",
        "from googletrans import Translator\n",
        "\n",
        "translator = Translator()\n",
        "\n",
        "# English to Chinese\n",
        "result = translator.translate(\"Hello world\", src=\"en\", dest=\"zh-cn\")\n",
        "print(f\"EN → CN: Hello world → {result.text}\")\n",
        "\n",
        "# Chinese to Japanese\n",
        "result = translator.translate(\"你好\", src=\"zh-cn\", dest=\"ja\")\n",
        "print(f\"CN → JP: 你好 → {result.text}\")\n",
        "\n",
        "# Japanese to English\n",
        "result = translator.translate(\"こんにちは\", src=\"ja\", dest=\"en\")\n",
        "print(f\"JP → EN: こんにちは → {result.text}\")\n"
      ]
    },
    {
      "cell_type": "markdown",
      "metadata": {},
      "source": [
        "### 2. 🌍 Language Detection\n",
        "\n",
        "Automatically detect the language of any text with confidence scores.\n",
        "\n",
        "**Features:**\n",
        "- Supports 13+ languages\n",
        "- Confidence percentage with visual progress bar\n",
        "- Shows top 3 possible languages\n"
      ]
    },
    {
      "cell_type": "code",
      "execution_count": null,
      "metadata": {},
      "outputs": [],
      "source": [
        "# Example: Language Detection\n",
        "from langdetect import detect, detect_langs\n",
        "\n",
        "# Detect language\n",
        "texts = [\"Hello!\", \"你好！\", \"こんにちは！\", \"Bonjour!\"]\n",
        "\n",
        "for text in texts:\n",
        "    lang = detect(text)\n",
        "    langs = detect_langs(text)\n",
        "    confidence = langs[0].prob\n",
        "    print(f\"{text} → {lang} (confidence: {confidence:.1%})\")\n"
      ]
    },
    {
      "cell_type": "markdown",
      "metadata": {},
      "source": [
        "### 3. 💭 Sentiment Analysis\n",
        "\n",
        "Analyze the emotional tone of text using NLP.\n",
        "\n",
        "**Features:**\n",
        "- Classifies as Positive 😊, Negative 😔, or Neutral 😐\n",
        "- Polarity score (-1 to +1)\n",
        "- Subjectivity score (0 to 1)\n",
        "- Works with multilingual text (auto-translates to English)\n"
      ]
    },
    {
      "cell_type": "code",
      "execution_count": null,
      "metadata": {},
      "outputs": [],
      "source": [
        "# Example: Sentiment Analysis\n",
        "from textblob import TextBlob\n",
        "\n",
        "texts = [\n",
        "    \"I love this app!\",\n",
        "    \"This is terrible.\",\n",
        "    \"The sky is blue.\"\n",
        "]\n",
        "\n",
        "for text in texts:\n",
        "    blob = TextBlob(text)\n",
        "    polarity = blob.sentiment.polarity\n",
        "    \n",
        "    if polarity > 0.1:\n",
        "        sentiment = \"😊 Positive\"\n",
        "    elif polarity < -0.1:\n",
        "        sentiment = \"😔 Negative\"\n",
        "    else:\n",
        "        sentiment = \"😐 Neutral\"\n",
        "    \n",
        "    print(f\"{text}\")\n",
        "    print(f\"  → {sentiment} (polarity: {polarity:.2f})\\n\")\n"
      ]
    },
    {
      "cell_type": "markdown",
      "metadata": {},
      "source": [
        "---\n",
        "\n",
        "## 🎨 User Interface\n",
        "\n",
        "The web app features a modern, beautiful interface with:\n",
        "- **Dashboard** - Overview of all features\n",
        "- **Language Detection Tab** - Enter text and detect language\n",
        "- **Sentiment Analysis Tab** - Analyze text sentiment\n",
        "- **Translation Tab** - Translate between languages\n",
        "\n",
        "All results are displayed with color-coded confidence bars and clear visual feedback.\n",
        "\n",
        "---\n",
        "\n",
        "## 🔧 Troubleshooting\n",
        "\n",
        "### Port Already in Use\n",
        "If port 5000 is busy, edit `backend/app.py` line 134:\n",
        "```python\n",
        "app.run(debug=True, port=5001)  # Changed from 5000\n",
        "```\n",
        "\n",
        "### Import Errors\n",
        "Reinstall dependencies:\n",
        "```bash\n",
        "pip3 install --user -r backend/requirements.txt\n",
        "```\n",
        "\n",
        "### NLTK Data Missing\n",
        "Run the download cell above again or:\n",
        "```bash\n",
        "python3 -c \"import nltk; nltk.download('punkt'); nltk.download('brown')\"\n",
        "```\n",
        "\n",
        "---\n",
        "\n",
        "## 📖 Repository\n",
        "\n",
        "🔗 **GitHub:** https://github.com/seven-ai-h/GlobalNewsProject\n",
        "\n",
        "---\n",
        "\n",
        "## 🎉 Ready to Use!\n",
        "\n",
        "Your translation app is fully functional with all features working. Start the server and visit `http://localhost:5000` to begin!\n"
      ]
    }
  ],
  "metadata": {
    "language_info": {
      "name": "python"
    }
  },
  "nbformat": 4,
  "nbformat_minor": 2
}
