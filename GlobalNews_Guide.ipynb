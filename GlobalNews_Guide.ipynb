{
  "cells": [
    {
      "cell_type": "markdown",
      "metadata": {},
      "source": [
        "# 🌍 GlobalNews Translation App\n",
        "\n",
        "A multilingual translation web application supporting **English**, **Chinese**, and **Japanese** with language detection and sentiment analysis.\n",
        "\n",
        "---\n",
        "\n",
        "## 🚀 Quick Start\n"
      ]
    },
    {
      "cell_type": "markdown",
      "metadata": {},
      "source": [
        "### Step 1: Install Dependencies\n"
      ]
    },
    {
      "cell_type": "code",
      "execution_count": null,
      "metadata": {},
      "outputs": [],
      "source": [
        "!pip3 install --user Flask googletrans==4.0.0rc1 Werkzeug textblob langdetect\n"
      ]
    },
    {
      "cell_type": "markdown",
      "metadata": {},
      "source": [
        "### Step 2: Download NLP Data\n"
      ]
    },
    {
      "cell_type": "code",
      "execution_count": null,
      "metadata": {},
      "outputs": [],
      "source": [
        "import nltk\n",
        "import os\n",
        "download_dir = os.path.expanduser('~/nltk_data')\n",
        "nltk.download('punkt', download_dir=download_dir)\n",
        "nltk.download('brown', download_dir=download_dir)\n"
      ]
    },
    {
      "cell_type": "markdown",
      "metadata": {},
      "source": [
        "### Step 3: Run the App\n",
        "\n",
        "**In terminal:**\n",
        "```bash\n",
        "cd backend\n",
        "python3 app.py\n",
        "```\n",
        "\n",
        "**Open:** http://localhost:5000\n",
        "\n",
        "---\n",
        "\n",
        "## ✨ Features\n",
        "\n",
        "### 1. 🔄 Translation\n",
        "- 🇺🇸 English ↔ 🇨🇳 Chinese ↔ 🇯🇵 Japanese\n",
        "- Powered by Google Translate\n",
        "\n",
        "### 2. 🌍 Language Detection\n",
        "- Auto-detect language with confidence scores\n",
        "- Supports 13+ languages\n",
        "\n",
        "### 3. 💭 Sentiment Analysis\n",
        "- Positive 😊, Negative 😔, or Neutral 😐\n",
        "- Polarity and subjectivity scores\n",
        "\n",
        "---\n",
        "\n",
        "## 🔧 Troubleshooting\n",
        "\n",
        "**Port in use:** Change port in `backend/app.py` to 5001\n",
        "\n",
        "**Import errors:** `pip3 install --user -r backend/requirements.txt`\n",
        "\n",
        "---\n",
        "\n",
        "🔗 **GitHub:** https://github.com/seven-ai-h/GlobalNewsProject\n"
      ]
    },
    {
      "cell_type": "markdown",
      "metadata": {},
      "source": [
        "# 🌍 GlobalNews Translation App\n",
        "\n",
        "A multilingual translation web application supporting **English**, **Chinese**, and **Japanese** with language detection and sentiment analysis.\n",
        "\n",
        "---\n",
        "\n",
        "## 🚀 Quick Start\n"
      ]
    },
    {
      "cell_type": "markdown",
      "metadata": {},
      "source": [
        "### Step 1: Install Dependencies\n"
      ]
    },
    {
      "cell_type": "code",
      "execution_count": null,
      "metadata": {},
      "outputs": [],
      "source": [
        "# Install required packages\n",
        "!pip3 install --user Flask googletrans==4.0.0rc1 Werkzeug textblob langdetect\n"
      ]
    },
    {
      "cell_type": "markdown",
      "metadata": {},
      "source": [
        "### Step 2: Download NLP Data\n"
      ]
    },
    {
      "cell_type": "code",
      "execution_count": null,
      "metadata": {},
      "outputs": [],
      "source": [
        "# Download NLTK data for sentiment analysis\n",
        "import nltk\n",
        "import os\n",
        "download_dir = os.path.expanduser('~/nltk_data')\n",
        "nltk.download('punkt', download_dir=download_dir)\n",
        "nltk.download('brown', download_dir=download_dir)\n"
      ]
    },
    {
      "cell_type": "markdown",
      "metadata": {},
      "source": [
        "### Step 3: Run the App\n",
        "\n",
        "**In terminal:**\n",
        "```bash\n",
        "cd backend\n",
        "python3 app.py\n",
        "```\n",
        "\n",
        "**Then open in browser:**\n",
        "```\n",
        "http://localhost:5000\n",
        "```\n",
        "\n",
        "---\n",
        "\n",
        "## ✨ Features\n"
      ]
    },
    {
      "cell_type": "markdown",
      "metadata": {},
      "source": [
        "### 1. 🔄 Translation\n",
        "\n",
        "Translate text between:\n",
        "- 🇺🇸 English\n",
        "- 🇨🇳 Chinese (Simplified)\n",
        "- 🇯🇵 Japanese\n",
        "\n",
        "**Features:**\n",
        "- Bidirectional translation (any language pair)\n",
        "- Swap button to quickly reverse languages\n",
        "- Powered by Google Translate API\n"
      ]
    },
    {
      "cell_type": "code",
      "execution_count": null,
      "metadata": {},
      "outputs": [],
      "source": [
        "# Example: Translation\n",
        "from googletrans import Translator\n",
        "\n",
        "translator = Translator()\n",
        "\n",
        "# English to Chinese\n",
        "result = translator.translate(\"Hello world\", src=\"en\", dest=\"zh-cn\")\n",
        "print(f\"EN → CN: Hello world → {result.text}\")\n",
        "\n",
        "# Chinese to Japanese\n",
        "result = translator.translate(\"你好\", src=\"zh-cn\", dest=\"ja\")\n",
        "print(f\"CN → JP: 你好 → {result.text}\")\n",
        "\n",
        "# Japanese to English\n",
        "result = translator.translate(\"こんにちは\", src=\"ja\", dest=\"en\")\n",
        "print(f\"JP → EN: こんにちは → {result.text}\")\n"
      ]
    },
    {
      "cell_type": "markdown",
      "metadata": {},
      "source": [
        "### 2. 🌍 Language Detection\n",
        "\n",
        "Automatically detect the language of any text with confidence scores.\n",
        "\n",
        "**Features:**\n",
        "- Supports 13+ languages\n",
        "- Confidence percentage with visual progress bar\n",
        "- Shows top 3 possible languages\n"
      ]
    },
    {
      "cell_type": "code",
      "execution_count": null,
      "metadata": {},
      "outputs": [],
      "source": [
        "# Example: Language Detection\n",
        "from langdetect import detect, detect_langs\n",
        "\n",
        "# Detect language\n",
        "texts = [\"Hello!\", \"你好！\", \"こんにちは！\", \"Bonjour!\"]\n",
        "\n",
        "for text in texts:\n",
        "    lang = detect(text)\n",
        "    langs = detect_langs(text)\n",
        "    confidence = langs[0].prob\n",
        "    print(f\"{text} → {lang} (confidence: {confidence:.1%})\")\n"
      ]
    },
    {
      "cell_type": "markdown",
      "metadata": {},
      "source": [
        "### 3. 💭 Sentiment Analysis\n",
        "\n",
        "Analyze the emotional tone of text using NLP.\n",
        "\n",
        "**Features:**\n",
        "- Classifies as Positive 😊, Negative 😔, or Neutral 😐\n",
        "- Polarity score (-1 to +1)\n",
        "- Subjectivity score (0 to 1)\n",
        "- Works with multilingual text (auto-translates to English)\n"
      ]
    },
    {
      "cell_type": "code",
      "execution_count": null,
      "metadata": {},
      "outputs": [],
      "source": [
        "# Example: Sentiment Analysis\n",
        "from textblob import TextBlob\n",
        "\n",
        "texts = [\n",
        "    \"I love this app!\",\n",
        "    \"This is terrible.\",\n",
        "    \"The sky is blue.\"\n",
        "]\n",
        "\n",
        "for text in texts:\n",
        "    blob = TextBlob(text)\n",
        "    polarity = blob.sentiment.polarity\n",
        "    \n",
        "    if polarity > 0.1:\n",
        "        sentiment = \"😊 Positive\"\n",
        "    elif polarity < -0.1:\n",
        "        sentiment = \"😔 Negative\"\n",
        "    else:\n",
        "        sentiment = \"😐 Neutral\"\n",
        "    \n",
        "    print(f\"{text}\")\n",
        "    print(f\"  → {sentiment} (polarity: {polarity:.2f})\\n\")\n"
      ]
    },
    {
      "cell_type": "markdown",
      "metadata": {},
      "source": [
        "---\n",
        "\n",
        "## 🎨 User Interface\n",
        "\n",
        "The web app features a modern, beautiful interface with:\n",
        "- **Dashboard** - Overview of all features\n",
        "- **Language Detection Tab** - Enter text and detect language\n",
        "- **Sentiment Analysis Tab** - Analyze text sentiment\n",
        "- **Translation Tab** - Translate between languages\n",
        "\n",
        "All results are displayed with color-coded confidence bars and clear visual feedback.\n",
        "\n",
        "---\n",
        "\n",
        "## 🔧 Troubleshooting\n",
        "\n",
        "### Port Already in Use\n",
        "If port 5000 is busy, edit `backend/app.py` line 134:\n",
        "```python\n",
        "app.run(debug=True, port=5001)  # Changed from 5000\n",
        "```\n",
        "\n",
        "### Import Errors\n",
        "Reinstall dependencies:\n",
        "```bash\n",
        "pip3 install --user -r backend/requirements.txt\n",
        "```\n",
        "\n",
        "### NLTK Data Missing\n",
        "Run the download cell above again or:\n",
        "```bash\n",
        "python3 -c \"import nltk; nltk.download('punkt'); nltk.download('brown')\"\n",
        "```\n",
        "\n",
        "---\n",
        "\n",
        "## 📖 Repository\n",
        "\n",
        "🔗 **GitHub:** https://github.com/seven-ai-h/GlobalNewsProject\n",
        "\n",
        "---\n",
        "\n",
        "## 🎉 Ready to Use!\n",
        "\n",
        "Your translation app is fully functional with all features working. Start the server and visit `http://localhost:5000` to begin!\n"
      ]
    },
    {
      "cell_type": "markdown",
      "metadata": {},
      "source": [
        "# 🌍 GlobalNews Translation App - Complete Guide\n",
        "\n",
        "A beautiful multilingual translation web app supporting English, Chinese, and Japanese with language detection and sentiment analysis.\n",
        "\n",
        "---\n",
        "\n",
        "## 📋 What This Notebook Contains\n",
        "\n",
        "1. **Quick Start** - Get running in 3 steps\n",
        "2. **Installation Fix** - Solve \"access denied\" errors\n",
        "3. **Features Overview** - What the app can do\n",
        "4. **Usage Examples** - Try the features in Python\n",
        "5. **Troubleshooting** - Common issues solved\n",
        "6. **API Reference** - Endpoint documentation\n"
      ]
    },
    {
      "cell_type": "markdown",
      "metadata": {},
      "source": [
        "## 🚀 Quick Start - Fix \"Access Denied\" Issue\n",
        "\n",
        "### The Problem\n",
        "You're getting \"access denied\" because pip is trying to install to system directories.\n",
        "\n",
        "### The Solution\n",
        "Run the installation script with the `--user` flag!\n"
      ]
    },
    {
      "cell_type": "code",
      "execution_count": null,
      "metadata": {},
      "outputs": [],
      "source": [
        "# STEP 1: Install packages with --user flag (NO PERMISSION ISSUES!)\n",
        "!pip3 install --user Flask==2.3.0 googletrans==4.0.0rc1 Werkzeug==2.3.0 textblob==0.17.1 langdetect==1.0.9\n"
      ]
    },
    {
      "cell_type": "code",
      "execution_count": null,
      "metadata": {},
      "outputs": [],
      "source": [
        "# STEP 2: Download NLP data (for sentiment analysis)\n",
        "import nltk\n",
        "import os\n",
        "\n",
        "download_dir = os.path.expanduser('~/nltk_data')\n",
        "nltk.download('punkt', download_dir=download_dir)\n",
        "nltk.download('brown', download_dir=download_dir)\n",
        "print('✅ NLTK data downloaded successfully!')\n"
      ]
    },
    {
      "cell_type": "code",
      "execution_count": null,
      "metadata": {},
      "outputs": [],
      "source": [
        "# STEP 3: Verify everything works\n",
        "try:\n",
        "    import flask\n",
        "    from googletrans import Translator\n",
        "    from textblob import TextBlob\n",
        "    from langdetect import detect\n",
        "    \n",
        "    print('✅ Flask:', flask.__version__)\n",
        "    print('✅ googletrans: Installed')\n",
        "    print('✅ textblob: Installed')\n",
        "    print('✅ langdetect: Installed')\n",
        "    print('\\n🎉 All packages ready!')\n",
        "    print('\\nNow run in terminal:')\n",
        "    print('  cd backend')\n",
        "    print('  python3 app.py')\n",
        "    print('\\nThen open: http://localhost:5000')\n",
        "    \n",
        "except ImportError as e:\n",
        "    print('❌ Error:', e)\n",
        "    print('\\nRun the install command above first!')\n"
      ]
    },
    {
      "cell_type": "markdown",
      "metadata": {},
      "source": [
        "---\n",
        "\n",
        "## ✨ What Your App Can Do\n",
        "\n",
        "### Feature 1: 🔄 Translation (EN ↔ CN ↔ JP)\n",
        "- Translate between English, Chinese, and Japanese\n",
        "- Powered by Google Translate API\n",
        "- Beautiful swap button to switch languages\n",
        "\n",
        "### Feature 2: 🌍 Language Detection (with Confidence!)\n",
        "- Automatically detect language from text\n",
        "- Shows confidence percentage with visual bar\n",
        "- Displays top 3 possible languages\n",
        "- Supports 13+ languages\n",
        "\n",
        "### Feature 3: 💭 Sentiment Analysis (Real NLP!)\n",
        "- Classifies: Positive 😊, Negative 😔, or Neutral 😐\n",
        "- Shows polarity (-1 to +1) and subjectivity (0 to 1)\n",
        "- Works with multilingual text (auto-translates)\n",
        "- Color-coded results with confidence bars\n"
      ]
    },
    {
      "cell_type": "markdown",
      "metadata": {},
      "source": [
        "---\n",
        "\n",
        "## 💡 Try the Features (Python Examples)\n",
        "\n",
        "### Example 1: Language Detection\n"
      ]
    },
    {
      "cell_type": "code",
      "execution_count": null,
      "metadata": {},
      "outputs": [],
      "source": [
        "from langdetect import detect, detect_langs\n",
        "\n",
        "# Test different languages\n",
        "texts = {\n",
        "    \"Hello, how are you?\": \"English\",\n",
        "    \"你好，你好吗？\": \"Chinese\",\n",
        "    \"こんにちは、元気ですか？\": \"Japanese\",\n",
        "    \"Bonjour, comment allez-vous?\": \"French\"\n",
        "}\n",
        "\n",
        "print(\"🌍 Language Detection Test:\\n\")\n",
        "for text, expected in texts.items():\n",
        "    detected = detect(text)\n",
        "    print(f\"Text: {text}\")\n",
        "    print(f\"Detected: {detected} (Expected: {expected})\")\n",
        "    \n",
        "    # Get confidence scores\n",
        "    langs = detect_langs(text)\n",
        "    print(f\"Confidence: {langs[0].prob:.2%}\\n\")\n"
      ]
    },
    {
      "cell_type": "markdown",
      "metadata": {},
      "source": [
        "### Example 2: Sentiment Analysis\n"
      ]
    },
    {
      "cell_type": "code",
      "execution_count": null,
      "metadata": {},
      "outputs": [],
      "source": [
        "from textblob import TextBlob\n",
        "\n",
        "# Test different sentiments\n",
        "texts = [\n",
        "    \"I absolutely love this app! It's amazing!\",\n",
        "    \"This is terrible and I hate it.\",\n",
        "    \"The sky is blue today.\",\n",
        "    \"I'm so happy and excited about this!\"\n",
        "]\n",
        "\n",
        "print(\"💭 Sentiment Analysis Test:\\n\")\n",
        "for text in texts:\n",
        "    blob = TextBlob(text)\n",
        "    pol = blob.sentiment.polarity\n",
        "    sub = blob.sentiment.subjectivity\n",
        "    \n",
        "    # Classify sentiment\n",
        "    if pol > 0.1:\n",
        "        label = \"😊 Positive\"\n",
        "    elif pol < -0.1:\n",
        "        label = \"😔 Negative\"\n",
        "    else:\n",
        "        label = \"😐 Neutral\"\n",
        "    \n",
        "    print(f\"Text: {text}\")\n",
        "    print(f\"Sentiment: {label}\")\n",
        "    print(f\"Polarity: {pol:.3f} | Subjectivity: {sub:.3f}\\n\")\n"
      ]
    },
    {
      "cell_type": "markdown",
      "metadata": {},
      "source": [
        "### Example 3: Translation\n"
      ]
    },
    {
      "cell_type": "code",
      "execution_count": null,
      "metadata": {},
      "outputs": [],
      "source": [
        "from googletrans import Translator\n",
        "\n",
        "translator = Translator()\n",
        "\n",
        "# Translation examples\n",
        "examples = [\n",
        "    (\"Hello world\", \"en\", \"zh-cn\", \"English → Chinese\"),\n",
        "    (\"你好世界\", \"zh-cn\", \"ja\", \"Chinese → Japanese\"),\n",
        "    (\"こんにちは\", \"ja\", \"en\", \"Japanese → English\"),\n",
        "    (\"Good morning\", \"en\", \"ja\", \"English → Japanese\")\n",
        "]\n",
        "\n",
        "print(\"🔄 Translation Test:\\n\")\n",
        "for text, src, dest, desc in examples:\n",
        "    try:\n",
        "        result = translator.translate(text, src=src, dest=dest)\n",
        "        print(f\"{desc}:\")\n",
        "        print(f\"  {text} → {result.text}\\n\")\n",
        "    except Exception as e:\n",
        "        print(f\"{desc}: Error - {e}\\n\")\n"
      ]
    },
    {
      "cell_type": "markdown",
      "metadata": {},
      "source": [
        "---\n",
        "\n",
        "## 🔧 Troubleshooting Common Issues\n",
        "\n",
        "### Issue 1: \"Access Denied\" when installing\n",
        "**Solution:** Use `--user` flag\n",
        "```bash\n",
        "pip3 install --user Flask googletrans==4.0.0rc1 textblob langdetect\n",
        "```\n",
        "\n",
        "### Issue 2: \"Resource punkt not found\"\n",
        "**Solution:** Download to home directory (run cell below)\n"
      ]
    },
    {
      "cell_type": "code",
      "execution_count": null,
      "metadata": {},
      "outputs": [],
      "source": [
        "# Fix NLTK data issues\n",
        "import nltk\n",
        "import os\n",
        "download_dir = os.path.expanduser('~/nltk_data')\n",
        "nltk.download('punkt', download_dir=download_dir)\n",
        "nltk.download('brown', download_dir=download_dir)\n"
      ]
    },
    {
      "cell_type": "markdown",
      "metadata": {},
      "source": [
        "### Issue 3: Port 5000 already in use\n",
        "**Solution:** Edit `backend/app.py` line 134:\n",
        "```python\n",
        "app.run(debug=True, port=5001)  # Changed from 5000\n",
        "```\n",
        "\n",
        "---\n",
        "\n",
        "## 🎯 How to Run the Web App\n",
        "\n",
        "**In Terminal:**\n",
        "```bash\n",
        "cd backend\n",
        "python3 app.py\n",
        "```\n",
        "\n",
        "**Then open browser:**\n",
        "```\n",
        "http://localhost:5000\n",
        "```\n",
        "\n",
        "---\n",
        "\n",
        "## 📝 What Changed\n",
        "\n",
        "### ✅ Files Deleted (2.1 GB saved!)\n",
        "- `cs-en.tsv` (453 MB) - Czech-English dataset\n",
        "- `en-ja.tsv` (889 MB) - English-Japanese dataset\n",
        "- `en-ja_clean.tsv` (800 MB) - Cleaned dataset\n",
        "- `model.py`, `training.py`, `analyze.py`, `cleantsv.py` - Unnecessary ML files\n",
        "\n",
        "### ✅ Files Updated\n",
        "- `backend/app.py` - Added sentiment analysis & language detection APIs\n",
        "- `backend/requirements.txt` - Added textblob & langdetect\n",
        "- `backend/static/js/script.js` - Implemented real API calls\n",
        "- `backend/static/css/style.css` - Added confidence bars\n",
        "\n",
        "---\n",
        "\n",
        "## 🎉 Summary\n",
        "\n",
        "Your app is now:\n",
        "- ✅ **Lightweight** - Went from 2.1 GB → 40 KB!\n",
        "- ✅ **Fast** - No more editor crashes\n",
        "- ✅ **Fully Functional** - Translation, detection, sentiment all work\n",
        "- ✅ **Easy to Install** - Just run the cells above!\n",
        "\n",
        "**Run `backend/fix_install.sh` in terminal for automatic installation!**\n"
      ]
    },
    {
      "cell_type": "markdown",
      "metadata": {},
      "source": [
        "---\n",
        "\n",
        "## 🔍 Testing Chinese Translation (Fixed!)\n",
        "\n",
        "The issue was that Google Translate needs `zh-cn` (not just `zh`). This has been fixed!\n"
      ]
    },
    {
      "cell_type": "code",
      "execution_count": null,
      "metadata": {},
      "outputs": [],
      "source": [
        "# Test Chinese translation\n",
        "from googletrans import Translator\n",
        "\n",
        "translator = Translator()\n",
        "\n",
        "print(\"🧪 Testing Chinese Translation:\\n\")\n",
        "\n",
        "# Test cases\n",
        "tests = [\n",
        "    (\"Hello world\", \"en\", \"zh-cn\", \"English → Chinese\"),\n",
        "    (\"你好世界\", \"zh-cn\", \"en\", \"Chinese → English\"),\n",
        "    (\"你好\", \"zh-cn\", \"ja\", \"Chinese → Japanese\"),\n",
        "    (\"Good morning\", \"en\", \"zh-cn\", \"English → Chinese\")\n",
        "]\n",
        "\n",
        "for text, src, dest, desc in tests:\n",
        "    try:\n",
        "        result = translator.translate(text, src=src, dest=dest)\n",
        "        print(f\"{desc}:\")\n",
        "        print(f\"  {text} → {result.text}\\n\")\n",
        "    except Exception as e:\n",
        "        print(f\"{desc}: Error - {e}\\n\")\n"
      ]
    },
    {
      "cell_type": "markdown",
      "metadata": {},
      "source": [
        "---\n",
        "\n",
        "## 🎉 GitHub Push - SUCCESSFUL!\n",
        "\n",
        "### What Was Fixed\n",
        "The large .tsv files (2.1 GB) were completely removed from Git history using aggressive cleanup.\n",
        "\n",
        "### Repository Stats\n",
        "- **Before:** 1.0 GB\n",
        "- **After:** 108 KB  \n",
        "- **Savings:** 99.99% smaller!\n",
        "\n",
        "### Your Repository\n",
        "🔗 https://github.com/seven-ai-h/GlobalNewsProject\n",
        "\n",
        "### What's Included\n",
        "- ✅ Translation app (EN ↔ CN ↔ JP) - **Chinese fixed!**\n",
        "- ✅ Language detection with confidence\n",
        "- ✅ Sentiment analysis with NLP\n",
        "- ✅ Beautiful modern UI\n",
        "- ✅ Complete guide (this notebook)\n",
        "- ✅ Installation scripts\n",
        "\n",
        "**Everything is working and on GitHub!** 🚀\n"
      ]
    }
  ],
  "metadata": {
    "language_info": {
      "name": "python"
    }
  },
  "nbformat": 4,
  "nbformat_minor": 2
}
